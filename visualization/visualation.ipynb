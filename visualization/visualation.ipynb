{
 "cells": [
  {
   "cell_type": "code",
   "execution_count": 2,
   "metadata": {},
   "outputs": [
    {
     "ename": "ModuleNotFoundError",
     "evalue": "No module named '_viz'",
     "output_type": "error",
     "traceback": [
      "\u001b[0;31m---------------------------------------------------------------------------\u001b[0m",
      "\u001b[0;31mModuleNotFoundError\u001b[0m                       Traceback (most recent call last)",
      "File \u001b[0;32m~/anaconda3/envs/nvidia_clara/lib/python3.11/site-packages/clara/viz/core/__init__.py:23\u001b[0m\n\u001b[1;32m     22\u001b[0m \u001b[39mtry\u001b[39;00m:\n\u001b[0;32m---> 23\u001b[0m     \u001b[39mfrom\u001b[39;00m \u001b[39m.\u001b[39;00m\u001b[39m_viz\u001b[39;00m \u001b[39mimport\u001b[39;00m Array, ImageCapsule, ImageType, InterfaceSelector, Renderer, VideoStream, ViewMode\n\u001b[1;32m     24\u001b[0m \u001b[39mexcept\u001b[39;00m \u001b[39mImportError\u001b[39;00m:\n",
      "\u001b[0;31mModuleNotFoundError\u001b[0m: No module named 'clara.viz.core._viz'",
      "\nDuring handling of the above exception, another exception occurred:\n",
      "\u001b[0;31mModuleNotFoundError\u001b[0m                       Traceback (most recent call last)",
      "\u001b[1;32m/home/ylai/code/Tumor_Growth/visualation.ipynb 单元格 1\u001b[0m line \u001b[0;36m1\n\u001b[0;32m----> <a href='vscode-notebook-cell://ssh-remote%2Bccvl14/home/ylai/code/Tumor_Growth/visualation.ipynb#W0sdnNjb2RlLXJlbW90ZQ%3D%3D?line=0'>1</a>\u001b[0m \u001b[39mfrom\u001b[39;00m \u001b[39mclara\u001b[39;00m\u001b[39m.\u001b[39;00m\u001b[39mviz\u001b[39;00m\u001b[39m.\u001b[39;00m\u001b[39mcore\u001b[39;00m \u001b[39mimport\u001b[39;00m Renderer, DataDefinition\n\u001b[1;32m      <a href='vscode-notebook-cell://ssh-remote%2Bccvl14/home/ylai/code/Tumor_Growth/visualation.ipynb#W0sdnNjb2RlLXJlbW90ZQ%3D%3D?line=1'>2</a>\u001b[0m \u001b[39mfrom\u001b[39;00m \u001b[39mclara\u001b[39;00m\u001b[39m.\u001b[39;00m\u001b[39mviz\u001b[39;00m\u001b[39m.\u001b[39;00m\u001b[39mwidgets\u001b[39;00m \u001b[39mimport\u001b[39;00m Widget\n\u001b[1;32m      <a href='vscode-notebook-cell://ssh-remote%2Bccvl14/home/ylai/code/Tumor_Growth/visualation.ipynb#W0sdnNjb2RlLXJlbW90ZQ%3D%3D?line=4'>5</a>\u001b[0m \u001b[39m# create and display the Widget providing a DataDefinition\u001b[39;00m\n",
      "File \u001b[0;32m~/anaconda3/envs/nvidia_clara/lib/python3.11/site-packages/clara/viz/core/__init__.py:25\u001b[0m\n\u001b[1;32m     23\u001b[0m     \u001b[39mfrom\u001b[39;00m \u001b[39m.\u001b[39;00m\u001b[39m_viz\u001b[39;00m \u001b[39mimport\u001b[39;00m Array, ImageCapsule, ImageType, InterfaceSelector, Renderer, VideoStream, ViewMode\n\u001b[1;32m     24\u001b[0m \u001b[39mexcept\u001b[39;00m \u001b[39mImportError\u001b[39;00m:\n\u001b[0;32m---> 25\u001b[0m     \u001b[39mfrom\u001b[39;00m \u001b[39m_viz\u001b[39;00m \u001b[39mimport\u001b[39;00m Array, ImageCapsule, ImageType, InterfaceSelector, Renderer, VideoStream, ViewMode\n",
      "\u001b[0;31mModuleNotFoundError\u001b[0m: No module named '_viz'"
     ]
    }
   ],
   "source": [
    "from clara.viz.core import Renderer, DataDefinition\n",
    "from clara.viz.widgets import Widget\n",
    "\n",
    "\n",
    "# create and display the Widget providing a DataDefinition\n",
    "data_definition = DataDefinition(\"/home/ylai/code/Tumor_Growth/data/img/ct.nii.gz\")\n",
    "display(Widget(data_definition=data_definition))\n"
   ]
  }
 ],
 "metadata": {
  "kernelspec": {
   "display_name": "Tumor_Growth",
   "language": "python",
   "name": "python3"
  },
  "language_info": {
   "codemirror_mode": {
    "name": "ipython",
    "version": 3
   },
   "file_extension": ".py",
   "mimetype": "text/x-python",
   "name": "python",
   "nbconvert_exporter": "python",
   "pygments_lexer": "ipython3",
   "version": "3.11.4"
  },
  "orig_nbformat": 4
 },
 "nbformat": 4,
 "nbformat_minor": 2
}
